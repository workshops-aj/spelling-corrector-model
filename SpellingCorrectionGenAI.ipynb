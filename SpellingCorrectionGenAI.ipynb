{
 "cells": [
  {
   "cell_type": "code",
   "execution_count": 1,
   "id": "fae2d194-d74d-4fb6-8698-7d4ced18a2bc",
   "metadata": {
    "tags": []
   },
   "outputs": [
    {
     "name": "stdout",
     "output_type": "stream",
     "text": [
      "Input: she had to adress teh crowd with confidence.\n",
      "Corrected: She had to address the crowd with confidence.\n",
      "\n",
      "Input: i will definately call you tommorow.\n",
      "Corrected: I will definitely call you tommorow.\n",
      "\n",
      "Input: dont let the arguement get out of hand.\n",
      "Corrected: Don't let the argument get out of hand.\n",
      "\n",
      "Input: mark the date on your calender.\n",
      "Corrected: Mark the date on your calendar.\n",
      "\n",
      "Input: the goverment should take action immediatly.\n",
      "Corrected: The government should take action immediately.\n",
      "\n"
     ]
    }
   ],
   "source": [
    "!pip install transformers sentencepiece requests -q\n",
    "\n",
    "import requests\n",
    "import json\n",
    "\n",
    "# -----------------------------------------------\n",
    "# Hugging Face Inference API with vennify/t5-base-grammar-correction\n",
    "# -----------------------------------------------\n",
    "\n",
    "def correct_with_vennify_t5(text, hf_api_key):\n",
    "    url = \"https://api-inference.huggingface.co/models/vennify/t5-base-grammar-correction\"\n",
    "    headers = {\n",
    "        \"Authorization\": f\"Bearer {hf_api_key}\",\n",
    "        \"Content-Type\": \"application/json\"\n",
    "    }\n",
    "\n",
    "    prompt = f\"grammar: {text}\"\n",
    "    payload = {\"inputs\": prompt}\n",
    "\n",
    "    response = requests.post(url, headers=headers, data=json.dumps(payload))\n",
    "    try:\n",
    "        return response.json()[0]['generated_text'].strip()\n",
    "    except:\n",
    "        return response.json()\n",
    "\n",
    "hf_api_key = \"\"\n",
    "test_sentences = [\n",
    "    \"she had to adress teh crowd with confidence.\",\n",
    "    \"i will definately call you tommorow.\",\n",
    "    \"dont let the arguement get out of hand.\",\n",
    "    \"mark the date on your calender.\",\n",
    "    \"the goverment should take action immediatly.\"\n",
    "]\n",
    "for sentence in test_sentences:\n",
    "    print(f\"Input: {sentence}\")\n",
    "    print(f\"Corrected: {correct_with_vennify_t5(sentence, hf_api_key)}\\n\")\n",
    "\n",
    "# --------------------------------------------------\n",
    "# How to Get a Hugging Face API Key:\n",
    "# --------------------------------------------------\n",
    "# 1. Go to https://huggingface.co/settings/tokens\n",
    "# 2. Click \"New Token\" and choose \"read\" access\n",
    "# 3. Copy the token (starts with hf_...)\n",
    "# 4. Use it with correct_with_vennify_t5()\n"
   ]
  },
  {
   "cell_type": "code",
   "execution_count": null,
   "id": "7bcf431d-1f89-4892-8ca4-0357e541fff2",
   "metadata": {},
   "outputs": [],
   "source": []
  }
 ],
 "metadata": {
  "kernelspec": {
   "display_name": "Python 3 (ipykernel)",
   "language": "python",
   "name": "python3"
  },
  "language_info": {
   "codemirror_mode": {
    "name": "ipython",
    "version": 3
   },
   "file_extension": ".py",
   "mimetype": "text/x-python",
   "name": "python",
   "nbconvert_exporter": "python",
   "pygments_lexer": "ipython3",
   "version": "3.11.5"
  }
 },
 "nbformat": 4,
 "nbformat_minor": 5
}
